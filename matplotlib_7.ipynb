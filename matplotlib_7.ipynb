{
  "nbformat": 4,
  "nbformat_minor": 0,
  "metadata": {
    "colab": {
      "name": "matplotlib_7.ipynb",
      "provenance": [],
      "collapsed_sections": [],
      "authorship_tag": "ABX9TyNoVWUT95BCCMENYDr7uN1l",
      "include_colab_link": true
    },
    "kernelspec": {
      "name": "python3",
      "display_name": "Python 3"
    },
    "language_info": {
      "name": "python"
    }
  },
  "cells": [
    {
      "cell_type": "markdown",
      "metadata": {
        "id": "view-in-github",
        "colab_type": "text"
      },
      "source": [
        "<a href=\"https://colab.research.google.com/github/AudryBarimbane/matplotlib_tuto_exercises/blob/main/matplotlib_7.ipynb\" target=\"_parent\"><img src=\"https://colab.research.google.com/assets/colab-badge.svg\" alt=\"Open In Colab\"/></a>"
      ]
    },
    {
      "cell_type": "code",
      "metadata": {
        "id": "VM8AdhxaWg2J"
      },
      "source": [
        "import matplotlib.pyplot as plt\n",
        "import numpy as np"
      ],
      "execution_count": 1,
      "outputs": []
    },
    {
      "cell_type": "code",
      "metadata": {
        "colab": {
          "base_uri": "https://localhost:8080/",
          "height": 282
        },
        "id": "ldT3t1N7XME6",
        "outputId": "da60d8cf-50fa-487a-cb26-89d9c95ebc41"
      },
      "source": [
        "low = (0, 1, 0)\n",
        "medium = (1, 1, 0)\n",
        "high = (1, 0, 0)\n",
        "\n",
        "price_orange = np.asarray([2.50, 1.23, 4.02, 3.25, 5.00, 4.40])\n",
        "sales_per_day_orange = np.asarray([34, 62, 49, 22, 13, 19])\n",
        "profit_margin_orange = np.asarray([20, 35, 40, 20, 27.5, 15])\n",
        "sugar_content_orange = [low, high, medium, medium, high, low]\n",
        "\n",
        "price_cereal = np.asarray([1.50, 2.50, 1.15, 1.95])\n",
        "sales_per_day_cereal = np.asarray([67, 34, 36, 12])\n",
        "profit_margin_cereal = np.asarray([20, 42.5, 33.3, 18])\n",
        "sugar_content_cereal = [low, high, medium, low]\n",
        "\n",
        "plt.scatter(\n",
        "    x=price_orange,\n",
        "    y=sales_per_day_orange,\n",
        "    s=profit_margin_orange * 10,\n",
        "    c=sugar_content_orange,\n",
        ")\n",
        "plt.scatter(\n",
        "    x=price_cereal,\n",
        "    y=sales_per_day_cereal,\n",
        "    s=profit_margin_cereal * 10,\n",
        "    c=sugar_content_cereal,\n",
        "    marker=\"d\",\n",
        ")"
      ],
      "execution_count": 2,
      "outputs": [
        {
          "output_type": "execute_result",
          "data": {
            "text/plain": [
              "<matplotlib.collections.PathCollection at 0x7f2714c97ad0>"
            ]
          },
          "metadata": {},
          "execution_count": 2
        },
        {
          "output_type": "display_data",
          "data": {
            "image/png": "[encoded data removed]",
            "text/plain": [
              "<Figure size 432x288 with 1 Axes>"
            ]
          },
          "metadata": {
            "needs_background": "light"
          }
        }
      ]
    }
  ]
}