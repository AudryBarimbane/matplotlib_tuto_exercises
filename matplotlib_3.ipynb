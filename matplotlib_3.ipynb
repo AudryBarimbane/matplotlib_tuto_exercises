{
  "nbformat": 4,
  "nbformat_minor": 0,
  "metadata": {
    "colab": {
      "name": "matplotlib_3.ipynb",
      "provenance": [],
      "collapsed_sections": [],
      "authorship_tag": "ABX9TyM0Yrd5dzGu3DLFZL+xwou4",
      "include_colab_link": true
    },
    "kernelspec": {
      "name": "python3",
      "display_name": "Python 3"
    },
    "language_info": {
      "name": "python"
    }
  },
  "cells": [
    {
      "cell_type": "markdown",
      "metadata": {
        "id": "view-in-github",
        "colab_type": "text"
      },
      "source": [
        "<a href=\"https://colab.research.google.com/github/AudryBarimbane/matplotlib_tuto_exercises/blob/main/matplotlib_3.ipynb\" target=\"_parent\"><img src=\"https://colab.research.google.com/assets/colab-badge.svg\" alt=\"Open In Colab\"/></a>"
      ]
    },
    {
      "cell_type": "code",
      "metadata": {
        "id": "HZwQ0sf5PHK-"
      },
      "source": [
        "import timeit\n",
        "import matplotlib.pyplot as plt\n",
        "\n"
      ],
      "execution_count": 1,
      "outputs": []
    },
    {
      "cell_type": "code",
      "metadata": {
        "colab": {
          "base_uri": "https://localhost:8080/",
          "height": 299
        },
        "id": "-uVZ4if9PKVw",
        "outputId": "d2fcaecd-a204-49f3-8830-cd774aff5872"
      },
      "source": [
        "price = [2.50, 1.23, 4.02, 3.25, 5.00, 4.40]\n",
        "sales_per_day = [34, 62, 49, 22, 13, 19]\n",
        "\n",
        "print(\n",
        "    \"plt.scatter()\",\n",
        "    timeit.timeit(\n",
        "        \"plt.scatter(price, sales_per_day)\",\n",
        "        number=1000,\n",
        "        globals=globals(),\n",
        "    ),\n",
        ")\n",
        "print(\n",
        "    \"plt.plot()\",\n",
        "    timeit.timeit(\n",
        "        \"plt.plot(price, sales_per_day, 'o')\",\n",
        "        number=1000,\n",
        "        globals=globals(),\n",
        "    ),\n",
        ")"
      ],
      "execution_count": 2,
      "outputs": [
        {
          "output_type": "stream",
          "name": "stdout",
          "text": [
            "plt.scatter() 3.6698432939999748\n",
            "plt.plot() 0.5487480820000314\n"
          ]
        },
        {
          "output_type": "display_data",
          "data": {
            "image/png": "[encoded data removed]",
            "text/plain": [
              "<Figure size 432x288 with 1 Axes>"
            ]
          },
          "metadata": {
            "needs_background": "light"
          }
        }
      ]
    }
  ]
}