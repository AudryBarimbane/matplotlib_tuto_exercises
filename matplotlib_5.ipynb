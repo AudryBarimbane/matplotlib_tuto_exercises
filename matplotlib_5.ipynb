{
  "nbformat": 4,
  "nbformat_minor": 0,
  "metadata": {
    "colab": {
      "name": "matplotlib_5.ipynb",
      "provenance": [],
      "collapsed_sections": [],
      "authorship_tag": "ABX9TyPD3DF+no3WM0uoToxXLAyu",
      "include_colab_link": true
    },
    "kernelspec": {
      "name": "python3",
      "display_name": "Python 3"
    },
    "language_info": {
      "name": "python"
    }
  },
  "cells": [
    {
      "cell_type": "markdown",
      "metadata": {
        "id": "view-in-github",
        "colab_type": "text"
      },
      "source": [
        "<a href=\"https://colab.research.google.com/github/AudryBarimbane/matplotlib_tuto_exercises/blob/main/matplotlib_5.ipynb\" target=\"_parent\"><img src=\"https://colab.research.google.com/assets/colab-badge.svg\" alt=\"Open In Colab\"/></a>"
      ]
    },
    {
      "cell_type": "code",
      "metadata": {
        "id": "qlgTjLCAULRk"
      },
      "source": [
        "import matplotlib.pyplot as plt\n",
        "import numpy as np\n"
      ],
      "execution_count": 4,
      "outputs": []
    },
    {
      "cell_type": "code",
      "metadata": {
        "colab": {
          "base_uri": "https://localhost:8080/",
          "height": 282
        },
        "id": "MkTnyrZoU6jx",
        "outputId": "5d93b394-c378-4046-e3ef-d9c3c3c5e4d0"
      },
      "source": [
        "price = np.asarray([2.50, 1.23, 4.02, 3.25, 5.00, 4.40])\n",
        "sales_per_day = np.asarray([34, 62, 49, 22, 13, 19])\n",
        "profit_margin = np.asarray([20, 35, 40, 20, 27.5, 15])\n",
        "low = (0, 1, 0)\n",
        "medium = (1, 1, 0)\n",
        "high = (1, 0, 0)\n",
        "\n",
        "sugar_content = [low, high, medium, medium, high, low]\n",
        "\n",
        "plt.scatter(\n",
        "    x=price,\n",
        "    y=sales_per_day,\n",
        "    s=profit_margin * 10,\n",
        "    c=sugar_content,\n",
        ")"
      ],
      "execution_count": 5,
      "outputs": [
        {
          "output_type": "execute_result",
          "data": {
            "text/plain": [
              "<matplotlib.collections.PathCollection at 0x7f42c9e28d50>"
            ]
          },
          "metadata": {},
          "execution_count": 5
        },
        {
          "output_type": "display_data",
          "data": {
            "image/png": "[encoded data removed]",
            "text/plain": [
              "<Figure size 432x288 with 1 Axes>"
            ]
          },
          "metadata": {
            "needs_background": "light"
          }
        }
      ]
    }
  ]
}